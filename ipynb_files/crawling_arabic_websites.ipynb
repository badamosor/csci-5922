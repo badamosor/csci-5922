{
 "cells": [
  {
   "cell_type": "code",
   "execution_count": 1,
   "metadata": {},
   "outputs": [],
   "source": [
    "import bs4 \n",
    "import requests as req\n",
    "import re\n",
    "import pandas as pd\n",
    "import numpy as np\n",
    "import datetime"
   ]
  },
  {
   "cell_type": "code",
   "execution_count": 2,
   "metadata": {
    "scrolled": true
   },
   "outputs": [],
   "source": [
    "#generate_arabic_sentences(sentence_length=4,max_sents=100000,file_name_to_save=\"arabic_sentences_4_dense3\",min_diacritics=3)\n",
    "#generate_arabic_sentences(sentence_length=3,file_name_to_save=\"arabic_sentences_3_huge\")\n",
    "#generate_arabic_sentences(sentence_length=4,file_name_to_save=\"arabic_sentences_4_huge\")"
   ]
  },
  {
   "cell_type": "code",
   "execution_count": 51,
   "metadata": {
    "scrolled": true
   },
   "outputs": [],
   "source": [
    "#1. To load the data you either read the generated CSV or use generate_arabic_sentences() method to generate new. \n",
    "# Append the method with .values to get np.array\n",
    "all_data = pd.read_csv(\"./arabic_sentences_4_dense3.csv\").values\n",
    "\n",
    "#2. Define the size of the training sizes and the test ratio to training sizes\n",
    "trainig_lengths = [1000,3000,5000,10000,20000,50000]\n",
    "test_size = 0.5 # of training\n",
    "\n",
    "for length in trainig_lengths:\n",
    "    #3. To split the sentences to Training and validation use split_train_test() on the loaded sentences\n",
    "    training_data, validation_data = split_train_test(all_data[:int(length*(1+test_size))],length)\n",
    "    \n",
    "    #4. Save the lists\n",
    "    save_list(training_data,\"trainig_data_\"+str(length))\n",
    "    save_list(validation_data,\"test_data_\"+str(length)+\"_\"+str(len(validation_data)))"
   ]
  },
  {
   "cell_type": "code",
   "execution_count": 40,
   "metadata": {
    "scrolled": true
   },
   "outputs": [],
   "source": [
    "def generate_arabic_sentences(sentence_length,\n",
    "                              base_link=\"http://www.baheth.info/all.jsp?term=\",\n",
    "                              word_list=get_words(\"http://www.baheth.info/all.jsp?term=عمر\"),\n",
    "                              max_sents=1000000,\n",
    "                              file_name_to_save=\"sentences\"+str(datetime.datetime.now()),\n",
    "                              include_index=False,\n",
    "                              min_diacritics=1):\n",
    "    \n",
    "    #generate links\n",
    "    links = generate_links(base_link,word_list)\n",
    "    \n",
    "    #get all sents\n",
    "    all_sentences = np.array([[],[]])\n",
    "    for link in links:\n",
    "        conc = get_sents_concatenated(link,sentence_length,min_diacritics)\n",
    "        all_sentences = append(all_sentences,conc)\n",
    "        print(all_sentences.shape)\n",
    "        if(all_sentences.shape[1] > max_sents):\n",
    "            break\n",
    "    \n",
    "    #save\n",
    "    all_sents = np.transpose(all_sentences)\n",
    "    save_list(all_sents,file_name_to_save,include_index=include_index)\n",
    "    "
   ]
  },
  {
   "cell_type": "code",
   "execution_count": 43,
   "metadata": {},
   "outputs": [],
   "source": [
    "def split_train_test(all_data,size_train,filter_valids_to_training_vocab=True):\n",
    "    \n",
    "    training_data = all_data[:size_train+1]\n",
    "    validation_data = all_data[size_train:]\n",
    "    \n",
    "    if(filter_valids_to_training_vocab):\n",
    "        vocab = get_vocab_from_sents(training_data)\n",
    "        validation_data = remove_non_vocab_sents(validation_data,vocab)\n",
    "    \n",
    "    return training_data,validation_data"
   ]
  },
  {
   "cell_type": "code",
   "execution_count": 45,
   "metadata": {},
   "outputs": [],
   "source": [
    "def remove_non_vocab_sents(all_sents,vocab):\n",
    "    new_sents = np.empty((0,2))\n",
    "    for sent in all_sents:\n",
    "        if(sent_words_in_sents(sent[0],vocab)):\n",
    "            new_sents = np.append(new_sents,[sent],axis=0)\n",
    "    return new_sents"
   ]
  },
  {
   "cell_type": "code",
   "execution_count": 20,
   "metadata": {},
   "outputs": [],
   "source": [
    "def get_vocab_from_sents(list_of_sents):\n",
    "    vocab = set()\n",
    "    for sent in list_of_sents:\n",
    "        words = set(sent[0].split(\" \"))\n",
    "        vocab = vocab | words\n",
    "    return vocab"
   ]
  },
  {
   "cell_type": "code",
   "execution_count": 21,
   "metadata": {},
   "outputs": [],
   "source": [
    "def sent_words_in_sents(sent,word_list):\n",
    "    sent_words = sent.split(\" \")\n",
    "    for word in sent_words:\n",
    "        if(word not in word_list):\n",
    "            return False\n",
    "    return True"
   ]
  },
  {
   "cell_type": "code",
   "execution_count": 22,
   "metadata": {},
   "outputs": [],
   "source": [
    "def generate_links(base,terms):\n",
    "    links = []\n",
    "    for term in terms:\n",
    "        link = base+term\n",
    "        links.append(link)\n",
    "    return links"
   ]
  },
  {
   "cell_type": "code",
   "execution_count": 23,
   "metadata": {},
   "outputs": [],
   "source": [
    "def get_words(link):\n",
    "    text = get_arabic_text(link)\n",
    "    words = clean_words(text.split(\" \"))\n",
    "    words = remove_diacritics_from_list(words)\n",
    "    return words"
   ]
  },
  {
   "cell_type": "code",
   "execution_count": 24,
   "metadata": {},
   "outputs": [],
   "source": [
    "def get_sents_concatenated(link,length=4,min_diacritics=1):\n",
    "    sents = get_sents(link,length,min_diacritics)\n",
    "    sents_nod = remove_diacritics_from_list(sents)\n",
    "    sents_all = concat(sents_nod,sents)\n",
    "    return sents_all"
   ]
  },
  {
   "cell_type": "code",
   "execution_count": 25,
   "metadata": {},
   "outputs": [],
   "source": [
    "def get_sents(link,length=4,min_diacritics=1):\n",
    "    text = get_arabic_text(link)\n",
    "    sents = split_to_sentences(text,length)\n",
    "    sents_clean = clean_sents(sents,length,min_diacritics)\n",
    "    return sents_clean"
   ]
  },
  {
   "cell_type": "code",
   "execution_count": 26,
   "metadata": {},
   "outputs": [],
   "source": [
    "def concat(list_a,list_b):\n",
    "    c = np.array([list_a,list_b])\n",
    "    return c"
   ]
  },
  {
   "cell_type": "code",
   "execution_count": 27,
   "metadata": {},
   "outputs": [],
   "source": [
    "def append(mat_a,mat_b):\n",
    "    a_b_0 = np.append(mat_a[0],mat_b[0])\n",
    "    a_b_1 = np.append(mat_a[1],mat_b[1])\n",
    "    c = concat(a_b_0,a_b_1)\n",
    "    return c"
   ]
  },
  {
   "cell_type": "code",
   "execution_count": 28,
   "metadata": {},
   "outputs": [],
   "source": [
    "def contains_diacritics(word):\n",
    "    regex = \"[\\u0618-\\u061A|\\u064B-\\u0653]\"\n",
    "    return re.search(regex,word)"
   ]
  },
  {
   "cell_type": "code",
   "execution_count": 29,
   "metadata": {},
   "outputs": [],
   "source": [
    "def num_of_diacritics(sentence):\n",
    "    words = sentence.split(\" \")\n",
    "    regex = \"[\\u0618-\\u061A|\\u064B-\\u0653]\"\n",
    "    num = 0\n",
    "    for word in words:\n",
    "        if(re.search(regex,word)):\n",
    "            num += 1\n",
    "    \n",
    "    return num"
   ]
  },
  {
   "cell_type": "code",
   "execution_count": 30,
   "metadata": {},
   "outputs": [],
   "source": [
    "def clean_sents(sents,length=4,min_diacritics=1):\n",
    "    \n",
    "    new_sents = []\n",
    "    \n",
    "    for sent in sents:\n",
    "                \n",
    "        #remove sents less than length \n",
    "        if(len(sent.split(\" \")) != length):\n",
    "            continue\n",
    "        \n",
    "        #remove sents that have no diacritics\n",
    "        if(num_of_diacritics(sent) < min_diacritics):\n",
    "            continue\n",
    "        \n",
    "        #add finally\n",
    "        new_sents.append(sent)\n",
    "    \n",
    "    return new_sents"
   ]
  },
  {
   "cell_type": "code",
   "execution_count": 31,
   "metadata": {},
   "outputs": [],
   "source": [
    "def split_to_sentences(text,length=4):\n",
    "    \n",
    "    words = clean_words(text.split(\" \"))\n",
    "    sentences = []\n",
    "    sent = words[0]\n",
    "    \n",
    "    for i in range(1,len(words)):\n",
    "        \n",
    "        if(i%length==0 or i==len(words)-1):\n",
    "            sentences.append(sent.strip())\n",
    "            sent = \"\"\n",
    "        \n",
    "        sent += \" \"+words[i]\n",
    "    \n",
    "    return sentences"
   ]
  },
  {
   "cell_type": "code",
   "execution_count": 32,
   "metadata": {},
   "outputs": [],
   "source": [
    "def clean_words(words):\n",
    "    new_words = []\n",
    "    \n",
    "    for word in words:\n",
    "        if(len(word.strip()) > 1 and len(word.strip()) < 15 and \"|\" not in word):\n",
    "            new_words.append(word)\n",
    "            \n",
    "    return new_words"
   ]
  },
  {
   "cell_type": "code",
   "execution_count": 33,
   "metadata": {},
   "outputs": [],
   "source": [
    "def get_arabic_text(link):\n",
    "    \n",
    "    if(not check_url(link) or link == None):\n",
    "        return set()\n",
    "    \n",
    "    #request\n",
    "    res = req.get(link)\n",
    "        \n",
    "    #get arabic words\n",
    "    ar_text = re.sub('((?![\\u0621-\\u0655| ]).)',\"\",res.text)\n",
    "    ar_text = ar_text.replace(\"\\n\",\"\")\n",
    "    ar_text = ar_text.replace(\"\\s\",\"\")\n",
    "    \n",
    "    return ar_text"
   ]
  },
  {
   "cell_type": "code",
   "execution_count": 34,
   "metadata": {},
   "outputs": [],
   "source": [
    "def cramp_page(link):\n",
    "\n",
    "    if(not check_url(link) or link == None):\n",
    "        return set()\n",
    "    \n",
    "    #request\n",
    "    res = req.get(link)\n",
    "        \n",
    "    #get arabic words\n",
    "    ar_text = re.sub('((?![\\u0621-\\u0655| ]).)',\"\",res.text)\n",
    "    ar_text = ar_text.replace(\"\\n\",\"\")\n",
    "    ar_text = ar_text.replace(\"\\s\",\"\")\n",
    "    ar_list = ar_text.split(\" \")\n",
    "    ar_set = set(ar_list)\n",
    "    \n",
    "    return ar_set"
   ]
  },
  {
   "cell_type": "code",
   "execution_count": 35,
   "metadata": {},
   "outputs": [],
   "source": [
    "def get_nested_links(home_link,link):\n",
    "                    \n",
    "    if(not check_url(link)):\n",
    "        return link\n",
    "    \n",
    "    #request\n",
    "    res = req.get(link)\n",
    "    \n",
    "    #get page links\n",
    "    soup = bs4.BeautifulSoup(res.text)\n",
    "    ais = soup.find_all('a')\n",
    "    hrefs = [a.get('href') for a in ais]\n",
    "    hrefs = set(hrefs) # unique nested links\n",
    "    \n",
    "    valid_links = set()\n",
    "        \n",
    "    for href in hrefs:\n",
    "        # add the href if it is valid \n",
    "        if(href == None or len(href) < 1):\n",
    "            continue\n",
    "        elif(not href.startswith('/')):\n",
    "            if(not href.startswith(base_link)):\n",
    "                continue\n",
    "            else:\n",
    "                if(check_url(href)):\n",
    "                    valid_links.add(href)\n",
    "        else:\n",
    "            aLink = home_link + href\n",
    "            if(check_url(aLink)):\n",
    "                valid_links.add(aLink)\n",
    "    \n",
    "    return valid_links"
   ]
  },
  {
   "cell_type": "code",
   "execution_count": 36,
   "metadata": {},
   "outputs": [],
   "source": [
    "def remove_diacritics_from_list(alist):\n",
    "    new_list = []\n",
    "    for word in alist:\n",
    "        word_nod = remove_diacritis(word)\n",
    "        new_list.append(word_nod)\n",
    "    return new_list"
   ]
  },
  {
   "cell_type": "code",
   "execution_count": 37,
   "metadata": {},
   "outputs": [],
   "source": [
    "def remove_diacritis(word):\n",
    "    regex = \"[\\u0618-\\u061A|\\u064B-\\u0653]\" #unicode diacritis\n",
    "    word_no = re.sub(regex,\"\",word)\n",
    "    return word_no"
   ]
  },
  {
   "cell_type": "code",
   "execution_count": 38,
   "metadata": {},
   "outputs": [],
   "source": [
    "def save_list(aList,name,enc=\"utf-8\",include_index=False):\n",
    "    list_pd = pd.DataFrame(aList)\n",
    "    name = \"./\"+name+\".csv\"\n",
    "    list_pd.to_csv(path_or_buf=name,encoding=enc,columns=[0,1],header=[\"no_diacritics\",\"with_diacritics\"],index=include_index)"
   ]
  },
  {
   "cell_type": "code",
   "execution_count": 39,
   "metadata": {},
   "outputs": [],
   "source": [
    "def check_url(url):\n",
    "    \n",
    "    regex = re.compile(\n",
    "        r'^(?:http|ftp)s?://' # http:// or https://\n",
    "        r'(?:(?:[A-Z0-9](?:[A-Z0-9-]{0,61}[A-Z0-9])?\\.)+(?:[A-Z]{2,6}\\.?|[A-Z0-9-]{2,}\\.?)|' #domain...\n",
    "        r'localhost|' #localhost...\n",
    "        r'\\d{1,3}\\.\\d{1,3}\\.\\d{1,3}\\.\\d{1,3})' # ...or ip\n",
    "        r'(?::\\d+)?' # optional port\n",
    "        r'(?:/?|[/?]\\S+)$', re.IGNORECASE)\n",
    "    \n",
    "    return re.match(regex, url)"
   ]
  }
 ],
 "metadata": {
  "kernelspec": {
   "display_name": "Python 3",
   "language": "python",
   "name": "python3"
  },
  "language_info": {
   "codemirror_mode": {
    "name": "ipython",
    "version": 3
   },
   "file_extension": ".py",
   "mimetype": "text/x-python",
   "name": "python",
   "nbconvert_exporter": "python",
   "pygments_lexer": "ipython3",
   "version": "3.7.1"
  }
 },
 "nbformat": 4,
 "nbformat_minor": 2
}
