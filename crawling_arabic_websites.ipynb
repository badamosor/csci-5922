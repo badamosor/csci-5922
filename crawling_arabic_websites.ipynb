{
 "cells": [
  {
   "cell_type": "code",
   "execution_count": 178,
   "metadata": {},
   "outputs": [],
   "source": [
    "import bs4 \n",
    "import requests as req\n",
    "import re\n",
    "import pandas as pd\n",
    "import numpy as np\n",
    "import datetime"
   ]
  },
  {
   "cell_type": "code",
   "execution_count": 251,
   "metadata": {
    "scrolled": true
   },
   "outputs": [
    {
     "name": "stdout",
     "output_type": "stream",
     "text": [
      "(2, 1)\n",
      "(2, 1049)\n",
      "(2, 4019)\n",
      "(2, 4114)\n",
      "(2, 7084)\n",
      "(2, 8259)\n",
      "(2, 9626)\n",
      "(2, 9627)\n",
      "(2, 9981)\n",
      "(2, 10428)\n",
      "(2, 10429)\n",
      "(2, 11772)\n",
      "(2, 14419)\n",
      "(2, 14420)\n",
      "(2, 14421)\n",
      "(2, 14422)\n",
      "(2, 15765)\n",
      "(2, 16536)\n",
      "(2, 16537)\n",
      "(2, 16998)\n",
      "(2, 17453)\n",
      "(2, 17454)\n",
      "(2, 17897)\n",
      "(2, 18591)\n",
      "(2, 18725)\n",
      "(2, 18726)\n",
      "(2, 19774)\n",
      "(2, 19775)\n",
      "(2, 20184)\n",
      "(2, 21076)\n",
      "(2, 21077)\n",
      "(2, 22942)\n",
      "(2, 22943)\n",
      "(2, 23147)\n",
      "(2, 23148)\n",
      "(2, 25190)\n",
      "(2, 26365)\n",
      "(2, 29335)\n",
      "(2, 31424)\n",
      "(2, 34394)\n",
      "(2, 37364)\n",
      "(2, 37899)\n",
      "(2, 38899)\n",
      "(2, 40275)\n",
      "(2, 42305)\n",
      "(2, 43994)\n",
      "(2, 46025)\n",
      "(2, 46545)\n",
      "(2, 47780)\n",
      "(2, 49587)\n",
      "(2, 50768)\n",
      "(2, 52438)\n",
      "(2, 55408)\n",
      "(2, 56775)\n",
      "(2, 57129)\n",
      "(2, 59218)\n",
      "(2, 59219)\n",
      "(2, 59220)\n",
      "(2, 60873)\n",
      "(2, 61279)\n",
      "(2, 61280)\n",
      "(2, 62881)\n",
      "(2, 63216)\n",
      "(2, 63217)\n",
      "(2, 64581)\n",
      "(2, 64816)\n",
      "(2, 66485)\n",
      "(2, 67233)\n",
      "(2, 68831)\n",
      "(2, 68832)\n",
      "(2, 69557)\n",
      "(2, 69558)\n",
      "(2, 70156)\n",
      "(2, 70157)\n",
      "(2, 70158)\n",
      "(2, 70346)\n",
      "(2, 71618)\n",
      "(2, 72461)\n",
      "(2, 72462)\n",
      "(2, 72463)\n",
      "(2, 72772)\n",
      "(2, 72773)\n",
      "(2, 74235)\n",
      "(2, 74935)\n",
      "(2, 74936)\n",
      "(2, 74937)\n",
      "(2, 76426)\n",
      "(2, 76427)\n",
      "(2, 77276)\n",
      "(2, 77277)\n",
      "(2, 77278)\n",
      "(2, 77279)\n",
      "(2, 78391)\n",
      "(2, 78392)\n",
      "(2, 79186)\n",
      "(2, 79187)\n",
      "(2, 79188)\n",
      "(2, 80304)\n",
      "(2, 80305)\n",
      "(2, 80306)\n",
      "(2, 80808)\n",
      "(2, 83542)\n",
      "(2, 83543)\n",
      "(2, 83544)\n",
      "(2, 84322)\n",
      "(2, 84920)\n",
      "(2, 84921)\n",
      "(2, 84922)\n",
      "(2, 86488)\n",
      "(2, 86489)\n",
      "(2, 87980)\n",
      "(2, 90212)\n",
      "(2, 92301)\n",
      "(2, 92302)\n",
      "(2, 92428)\n",
      "(2, 92429)\n",
      "(2, 92430)\n",
      "(2, 94992)\n",
      "(2, 97442)\n",
      "(2, 98734)\n",
      "(2, 99583)\n",
      "(2, 99584)\n",
      "(2, 99585)\n",
      "(2, 101636)\n"
     ]
    }
   ],
   "source": [
    "generate_arabic_sentences(sentence_length=4,max_sents=100000,file_name_to_save=\"arabic_sentences_4_dense3\",min_diacritics=3)\n",
    "#generate_arabic_sentences(sentence_length=3,file_name_to_save=\"arabic_sentences_3_huge\")\n",
    "#generate_arabic_sentences(sentence_length=4,file_name_to_save=\"arabic_sentences_4_huge\")"
   ]
  },
  {
   "cell_type": "code",
   "execution_count": 248,
   "metadata": {},
   "outputs": [],
   "source": [
    "def generate_arabic_sentences(sentence_length,\n",
    "                              base_link=\"http://www.baheth.info/all.jsp?term=\",\n",
    "                              word_list=get_words(\"http://www.baheth.info/all.jsp?term=عمر\"),\n",
    "                              max_sents=1000000,\n",
    "                              file_name_to_save=\"sentences\"+str(datetime.datetime.now()),\n",
    "                              include_index=False,\n",
    "                              min_diacritics=1):\n",
    "    \n",
    "    #generate links\n",
    "    links = generate_links(base_link,word_list)\n",
    "    \n",
    "    #get all sents\n",
    "    all_sentences = np.array([[],[]])\n",
    "    for link in links:\n",
    "        conc = get_sents_concatenated(link,sentence_length,min_diacritics)\n",
    "        all_sentences = append(all_sentences,conc)\n",
    "        print(all_sentences.shape)\n",
    "        if(all_sentences.shape[1] > max_sents):\n",
    "            break\n",
    "    \n",
    "    #save\n",
    "    all_sents = np.transpose(all_sentences)\n",
    "    save_list(all_sents,file_name_to_save,include_index=include_index)\n",
    "    "
   ]
  },
  {
   "cell_type": "code",
   "execution_count": 229,
   "metadata": {},
   "outputs": [],
   "source": [
    "def generate_links(base,terms):\n",
    "    links = []\n",
    "    for term in terms:\n",
    "        link = base+term\n",
    "        links.append(link)\n",
    "    return links"
   ]
  },
  {
   "cell_type": "code",
   "execution_count": 230,
   "metadata": {},
   "outputs": [],
   "source": [
    "def get_words(link):\n",
    "    text = get_arabic_text(link)\n",
    "    words = clean_words(text.split(\" \"))\n",
    "    words = remove_diacritics_from_list(words)\n",
    "    return words"
   ]
  },
  {
   "cell_type": "code",
   "execution_count": 231,
   "metadata": {},
   "outputs": [],
   "source": [
    "def get_sents_concatenated(link,length=4,min_diacritics=1):\n",
    "    sents = get_sents(link,length,min_diacritics)\n",
    "    sents_nod = remove_diacritics_from_list(sents)\n",
    "    sents_all = concat(sents_nod,sents)\n",
    "    return sents_all"
   ]
  },
  {
   "cell_type": "code",
   "execution_count": 232,
   "metadata": {},
   "outputs": [],
   "source": [
    "def get_sents(link,length=4,min_diacritics=1):\n",
    "    text = get_arabic_text(link)\n",
    "    sents = split_to_sentences(text,length)\n",
    "    sents_clean = clean_sents(sents,length,min_diacritics)\n",
    "    return sents_clean"
   ]
  },
  {
   "cell_type": "code",
   "execution_count": 233,
   "metadata": {},
   "outputs": [],
   "source": [
    "def concat(list_a,list_b):\n",
    "    c = np.array([list_a,list_b])\n",
    "    return c"
   ]
  },
  {
   "cell_type": "code",
   "execution_count": 234,
   "metadata": {},
   "outputs": [],
   "source": [
    "def append(mat_a,mat_b):\n",
    "    a_b_0 = np.append(mat_a[0],mat_b[0])\n",
    "    a_b_1 = np.append(mat_a[1],mat_b[1])\n",
    "    c = concat(a_b_0,a_b_1)\n",
    "    return c"
   ]
  },
  {
   "cell_type": "code",
   "execution_count": 235,
   "metadata": {},
   "outputs": [],
   "source": [
    "def contains_diacritics(word):\n",
    "    regex = \"[\\u0618-\\u061A|\\u064B-\\u0653]\"\n",
    "    return re.search(regex,word)"
   ]
  },
  {
   "cell_type": "code",
   "execution_count": 236,
   "metadata": {},
   "outputs": [],
   "source": [
    "def num_of_diacritics(sentence):\n",
    "    words = sentence.split(\" \")\n",
    "    regex = \"[\\u0618-\\u061A|\\u064B-\\u0653]\"\n",
    "    num = 0\n",
    "    for word in words:\n",
    "        if(re.search(regex,word)):\n",
    "            num += 1\n",
    "    \n",
    "    return num"
   ]
  },
  {
   "cell_type": "code",
   "execution_count": 237,
   "metadata": {},
   "outputs": [],
   "source": [
    "def clean_sents(sents,length=4,min_diacritics=1):\n",
    "    \n",
    "    new_sents = []\n",
    "    \n",
    "    for sent in sents:\n",
    "                \n",
    "        #remove sents less than length \n",
    "        if(len(sent.split(\" \")) != length):\n",
    "            continue\n",
    "        \n",
    "        #remove sents that have no diacritics\n",
    "        if(num_of_diacritics(sent) < min_diacritics):\n",
    "            continue\n",
    "        \n",
    "        #add finally\n",
    "        new_sents.append(sent)\n",
    "    \n",
    "    return new_sents"
   ]
  },
  {
   "cell_type": "code",
   "execution_count": 238,
   "metadata": {},
   "outputs": [],
   "source": [
    "def split_to_sentences(text,length=4):\n",
    "    \n",
    "    words = clean_words(text.split(\" \"))\n",
    "    sentences = []\n",
    "    sent = words[0]\n",
    "    \n",
    "    for i in range(1,len(words)):\n",
    "        \n",
    "        if(i%length==0 or i==len(words)-1):\n",
    "            sentences.append(sent.strip())\n",
    "            sent = \"\"\n",
    "        \n",
    "        sent += \" \"+words[i]\n",
    "    \n",
    "    return sentences"
   ]
  },
  {
   "cell_type": "code",
   "execution_count": 239,
   "metadata": {},
   "outputs": [],
   "source": [
    "def clean_words(words):\n",
    "    new_words = []\n",
    "    \n",
    "    for word in words:\n",
    "        if(len(word.strip()) > 1 and len(word.strip()) < 15 and \"|\" not in word):\n",
    "            new_words.append(word)\n",
    "            \n",
    "    return new_words"
   ]
  },
  {
   "cell_type": "code",
   "execution_count": 240,
   "metadata": {},
   "outputs": [],
   "source": [
    "def get_arabic_text(link):\n",
    "    \n",
    "    if(not check_url(link) or link == None):\n",
    "        return set()\n",
    "    \n",
    "    #request\n",
    "    res = req.get(link)\n",
    "        \n",
    "    #get arabic words\n",
    "    ar_text = re.sub('((?![\\u0621-\\u0655| ]).)',\"\",res.text)\n",
    "    ar_text = ar_text.replace(\"\\n\",\"\")\n",
    "    ar_text = ar_text.replace(\"\\s\",\"\")\n",
    "    \n",
    "    return ar_text"
   ]
  },
  {
   "cell_type": "code",
   "execution_count": 241,
   "metadata": {},
   "outputs": [],
   "source": [
    "def cramp_page(link):\n",
    "\n",
    "    if(not check_url(link) or link == None):\n",
    "        return set()\n",
    "    \n",
    "    #request\n",
    "    res = req.get(link)\n",
    "        \n",
    "    #get arabic words\n",
    "    ar_text = re.sub('((?![\\u0621-\\u0655| ]).)',\"\",res.text)\n",
    "    ar_text = ar_text.replace(\"\\n\",\"\")\n",
    "    ar_text = ar_text.replace(\"\\s\",\"\")\n",
    "    ar_list = ar_text.split(\" \")\n",
    "    ar_set = set(ar_list)\n",
    "    \n",
    "    return ar_set"
   ]
  },
  {
   "cell_type": "code",
   "execution_count": 242,
   "metadata": {},
   "outputs": [],
   "source": [
    "def get_nested_links(home_link,link):\n",
    "                    \n",
    "    if(not check_url(link)):\n",
    "        return link\n",
    "    \n",
    "    #request\n",
    "    res = req.get(link)\n",
    "    \n",
    "    #get page links\n",
    "    soup = bs4.BeautifulSoup(res.text)\n",
    "    ais = soup.find_all('a')\n",
    "    hrefs = [a.get('href') for a in ais]\n",
    "    hrefs = set(hrefs) # unique nested links\n",
    "    \n",
    "    valid_links = set()\n",
    "        \n",
    "    for href in hrefs:\n",
    "        # add the href if it is valid \n",
    "        if(href == None or len(href) < 1):\n",
    "            continue\n",
    "        elif(not href.startswith('/')):\n",
    "            if(not href.startswith(base_link)):\n",
    "                continue\n",
    "            else:\n",
    "                if(check_url(href)):\n",
    "                    valid_links.add(href)\n",
    "        else:\n",
    "            aLink = home_link + href\n",
    "            if(check_url(aLink)):\n",
    "                valid_links.add(aLink)\n",
    "    \n",
    "    return valid_links"
   ]
  },
  {
   "cell_type": "code",
   "execution_count": 243,
   "metadata": {},
   "outputs": [],
   "source": [
    "def remove_diacritics_from_list(alist):\n",
    "    new_list = []\n",
    "    for word in alist:\n",
    "        word_nod = remove_diacritis(word)\n",
    "        new_list.append(word_nod)\n",
    "    return new_list"
   ]
  },
  {
   "cell_type": "code",
   "execution_count": 244,
   "metadata": {},
   "outputs": [],
   "source": [
    "def remove_diacritis(word):\n",
    "    regex = \"[\\u0618-\\u061A|\\u064B-\\u0653]\" #unicode diacritis\n",
    "    word_no = re.sub(regex,\"\",word)\n",
    "    return word_no"
   ]
  },
  {
   "cell_type": "code",
   "execution_count": 245,
   "metadata": {},
   "outputs": [],
   "source": [
    "def save_list(aList,name,enc=\"utf-8\",include_index=False):\n",
    "    list_pd = pd.DataFrame(aList)\n",
    "    name = \"./\"+name+\".csv\"\n",
    "    list_pd.to_csv(path_or_buf=name,encoding=enc,columns=[0,1],header=[\"no_diacritics\",\"with_diacritics\"],index=include_index)"
   ]
  },
  {
   "cell_type": "code",
   "execution_count": 246,
   "metadata": {},
   "outputs": [],
   "source": [
    "def check_url(url):\n",
    "    \n",
    "    regex = re.compile(\n",
    "        r'^(?:http|ftp)s?://' # http:// or https://\n",
    "        r'(?:(?:[A-Z0-9](?:[A-Z0-9-]{0,61}[A-Z0-9])?\\.)+(?:[A-Z]{2,6}\\.?|[A-Z0-9-]{2,}\\.?)|' #domain...\n",
    "        r'localhost|' #localhost...\n",
    "        r'\\d{1,3}\\.\\d{1,3}\\.\\d{1,3}\\.\\d{1,3})' # ...or ip\n",
    "        r'(?::\\d+)?' # optional port\n",
    "        r'(?:/?|[/?]\\S+)$', re.IGNORECASE)\n",
    "    \n",
    "    return re.match(regex, url)"
   ]
  }
 ],
 "metadata": {
  "kernelspec": {
   "display_name": "Python 3",
   "language": "python",
   "name": "python3"
  },
  "language_info": {
   "codemirror_mode": {
    "name": "ipython",
    "version": 3
   },
   "file_extension": ".py",
   "mimetype": "text/x-python",
   "name": "python",
   "nbconvert_exporter": "python",
   "pygments_lexer": "ipython3",
   "version": "3.7.1"
  }
 },
 "nbformat": 4,
 "nbformat_minor": 2
}
