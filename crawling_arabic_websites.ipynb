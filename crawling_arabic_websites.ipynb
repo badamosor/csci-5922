{
 "cells": [
  {
   "cell_type": "code",
   "execution_count": 178,
   "metadata": {},
   "outputs": [],
   "source": [
    "import bs4 \n",
    "import requests as req\n",
    "import re\n",
    "import pandas as pd\n",
    "import numpy as np\n",
    "import datetime"
   ]
  },
  {
   "cell_type": "code",
   "execution_count": null,
   "metadata": {},
   "outputs": [],
   "source": [
    "#generate_arabic_sentences(sentence_length=2,max_sents=10,file_name_to_save=\"test\")\n",
    "generate_arabic_sentences(sentence_length=3,file_name_to_save=\"arabic_sentences_3_huge\")\n",
    "generate_arabic_sentences(sentence_length=4,file_name_to_save=\"arabic_sentences_4_huge\")"
   ]
  },
  {
   "cell_type": "code",
   "execution_count": 214,
   "metadata": {},
   "outputs": [],
   "source": [
    "def generate_arabic_sentences(sentence_length,\n",
    "                              base_link=\"http://www.baheth.info/all.jsp?term=\",\n",
    "                              word_list=get_words(\"http://www.baheth.info/all.jsp?term=عمر\"),\n",
    "                              max_sents=1000000,\n",
    "                              file_name_to_save=\"sentences\"+str(datetime.datetime.now()),\n",
    "                              include_index=False):\n",
    "    \n",
    "    #generate links\n",
    "    links = generate_links(base_link,word_list)\n",
    "    \n",
    "    #get all sents\n",
    "    all_sentences = np.array([[],[]])\n",
    "    for link in links:\n",
    "        conc = get_sents_concatenated(link,sentence_length)\n",
    "        all_sentences = append(all_sentences,conc)\n",
    "        if(all_sentences.shape[1] > max_sents):\n",
    "            break\n",
    "    \n",
    "    #save\n",
    "    all_sents = np.transpose(all_sentences)\n",
    "    save_list(all_sents,file_name_to_save,include_index=include_index)\n",
    "    "
   ]
  },
  {
   "cell_type": "code",
   "execution_count": 110,
   "metadata": {},
   "outputs": [],
   "source": [
    "def generate_links(base,terms):\n",
    "    links = []\n",
    "    for term in terms:\n",
    "        link = base+term\n",
    "        links.append(link)\n",
    "    return links"
   ]
  },
  {
   "cell_type": "code",
   "execution_count": 109,
   "metadata": {},
   "outputs": [],
   "source": [
    "def get_words(link):\n",
    "    text = get_arabic_text(link)\n",
    "    words = clean_words(text.split(\" \"))\n",
    "    words = remove_diacritics_from_list(words)\n",
    "    return words"
   ]
  },
  {
   "cell_type": "code",
   "execution_count": 183,
   "metadata": {},
   "outputs": [],
   "source": [
    "def get_sents_concatenated(link,length=4):\n",
    "    sents = get_sents(link,length)\n",
    "    sents_nod = remove_diacritics_from_list(sents)\n",
    "    sents_all = concat(sents_nod,sents)\n",
    "    return sents_all"
   ]
  },
  {
   "cell_type": "code",
   "execution_count": 56,
   "metadata": {},
   "outputs": [],
   "source": [
    "def get_sents(link,length=4):\n",
    "    text = get_arabic_text(link)\n",
    "    sents = split_to_sentences(text,length)\n",
    "    sents_clean = clean_sents(sents,length)\n",
    "    return sents_clean"
   ]
  },
  {
   "cell_type": "code",
   "execution_count": 103,
   "metadata": {},
   "outputs": [],
   "source": [
    "def concat(list_a,list_b):\n",
    "    c = np.array([list_a,list_b])\n",
    "    return c"
   ]
  },
  {
   "cell_type": "code",
   "execution_count": 155,
   "metadata": {},
   "outputs": [],
   "source": [
    "def append(mat_a,mat_b):\n",
    "    a_b_0 = np.append(mat_a[0],mat_b[0])\n",
    "    a_b_1 = np.append(mat_a[1],mat_b[1])\n",
    "    c = concat(a_b_0,a_b_1)\n",
    "    return c"
   ]
  },
  {
   "cell_type": "code",
   "execution_count": 31,
   "metadata": {},
   "outputs": [],
   "source": [
    "def contains_diacritics(word):\n",
    "    regex = \"[\\u0618-\\u061A|\\u064B-\\u0653]\"\n",
    "    return re.search(regex,word)"
   ]
  },
  {
   "cell_type": "code",
   "execution_count": 52,
   "metadata": {},
   "outputs": [],
   "source": [
    "def clean_sents(sents,length=4):\n",
    "    \n",
    "    new_sents = []\n",
    "    \n",
    "    for sent in sents:\n",
    "                \n",
    "        #remove sents less than length \n",
    "        if(len(sent.split(\" \")) != length):\n",
    "            continue\n",
    "        \n",
    "        #remove sents that have no diacritics\n",
    "        if(contains_diacritics(sent) == None):\n",
    "            continue\n",
    "        \n",
    "        \n",
    "        #add finally\n",
    "        new_sents.append(sent)\n",
    "    \n",
    "    return new_sents"
   ]
  },
  {
   "cell_type": "code",
   "execution_count": 61,
   "metadata": {},
   "outputs": [],
   "source": [
    "def split_to_sentences(text,length=4):\n",
    "    \n",
    "    words = clean_words(text.split(\" \"))\n",
    "    sentences = []\n",
    "    sent = words[0]\n",
    "    \n",
    "    for i in range(1,len(words)):\n",
    "        \n",
    "        if(i%length==0 or i==len(words)-1):\n",
    "            sentences.append(sent.strip())\n",
    "            sent = \"\"\n",
    "        \n",
    "        sent += \" \"+words[i]\n",
    "    \n",
    "    return sentences"
   ]
  },
  {
   "cell_type": "code",
   "execution_count": 185,
   "metadata": {},
   "outputs": [],
   "source": [
    "def clean_words(words):\n",
    "    new_words = []\n",
    "    \n",
    "    for word in words:\n",
    "        if(len(word.strip()) > 1 and len(word.strip()) < 15 and \"|\" not in word):\n",
    "            new_words.append(word)\n",
    "            \n",
    "    return new_words"
   ]
  },
  {
   "cell_type": "code",
   "execution_count": 2,
   "metadata": {},
   "outputs": [],
   "source": [
    "def get_arabic_text(link):\n",
    "    \n",
    "    if(not check_url(link) or link == None):\n",
    "        return set()\n",
    "    \n",
    "    #request\n",
    "    res = req.get(link)\n",
    "        \n",
    "    #get arabic words\n",
    "    ar_text = re.sub('((?![\\u0621-\\u0655| ]).)',\"\",res.text)\n",
    "    ar_text = ar_text.replace(\"\\n\",\"\")\n",
    "    ar_text = ar_text.replace(\"\\s\",\"\")\n",
    "    \n",
    "    return ar_text"
   ]
  },
  {
   "cell_type": "code",
   "execution_count": 329,
   "metadata": {},
   "outputs": [],
   "source": [
    "def cramp_page(link):\n",
    "\n",
    "    if(not check_url(link) or link == None):\n",
    "        return set()\n",
    "    \n",
    "    #request\n",
    "    res = req.get(link)\n",
    "        \n",
    "    #get arabic words\n",
    "    ar_text = re.sub('((?![\\u0621-\\u0655| ]).)',\"\",res.text)\n",
    "    ar_text = ar_text.replace(\"\\n\",\"\")\n",
    "    ar_text = ar_text.replace(\"\\s\",\"\")\n",
    "    ar_list = ar_text.split(\" \")\n",
    "    ar_set = set(ar_list)\n",
    "    \n",
    "    return ar_set"
   ]
  },
  {
   "cell_type": "code",
   "execution_count": 4,
   "metadata": {},
   "outputs": [],
   "source": [
    "def get_nested_links(home_link,link):\n",
    "                    \n",
    "    if(not check_url(link)):\n",
    "        return link\n",
    "    \n",
    "    #request\n",
    "    res = req.get(link)\n",
    "    \n",
    "    #get page links\n",
    "    soup = bs4.BeautifulSoup(res.text)\n",
    "    ais = soup.find_all('a')\n",
    "    hrefs = [a.get('href') for a in ais]\n",
    "    hrefs = set(hrefs) # unique nested links\n",
    "    \n",
    "    valid_links = set()\n",
    "        \n",
    "    for href in hrefs:\n",
    "        # add the href if it is valid \n",
    "        if(href == None or len(href) < 1):\n",
    "            continue\n",
    "        elif(not href.startswith('/')):\n",
    "            if(not href.startswith(base_link)):\n",
    "                continue\n",
    "            else:\n",
    "                if(check_url(href)):\n",
    "                    valid_links.add(href)\n",
    "        else:\n",
    "            aLink = home_link + href\n",
    "            if(check_url(aLink)):\n",
    "                valid_links.add(aLink)\n",
    "    \n",
    "    return valid_links"
   ]
  },
  {
   "cell_type": "code",
   "execution_count": 69,
   "metadata": {},
   "outputs": [],
   "source": [
    "def remove_diacritics_from_list(alist):\n",
    "    new_list = []\n",
    "    for word in alist:\n",
    "        word_nod = remove_diacritis(word)\n",
    "        new_list.append(word_nod)\n",
    "    return new_list"
   ]
  },
  {
   "cell_type": "code",
   "execution_count": 5,
   "metadata": {},
   "outputs": [],
   "source": [
    "def remove_diacritis(word):\n",
    "    regex = \"[\\u0618-\\u061A|\\u064B-\\u0653]\" #unicode diacritis\n",
    "    word_no = re.sub(regex,\"\",word)\n",
    "    return word_no"
   ]
  },
  {
   "cell_type": "code",
   "execution_count": 213,
   "metadata": {},
   "outputs": [],
   "source": [
    "def save_list(aList,name,enc=\"utf-8\",include_index=False):\n",
    "    list_pd = pd.DataFrame(aList)\n",
    "    name = \"./\"+name+\".csv\"\n",
    "    list_pd.to_csv(path_or_buf=name,encoding=enc,columns=[0,1],header=[\"no_diacritics\",\"with_diacritics\"],index=include_index)"
   ]
  },
  {
   "cell_type": "code",
   "execution_count": 7,
   "metadata": {},
   "outputs": [],
   "source": [
    "def check_url(url):\n",
    "    \n",
    "    regex = re.compile(\n",
    "        r'^(?:http|ftp)s?://' # http:// or https://\n",
    "        r'(?:(?:[A-Z0-9](?:[A-Z0-9-]{0,61}[A-Z0-9])?\\.)+(?:[A-Z]{2,6}\\.?|[A-Z0-9-]{2,}\\.?)|' #domain...\n",
    "        r'localhost|' #localhost...\n",
    "        r'\\d{1,3}\\.\\d{1,3}\\.\\d{1,3}\\.\\d{1,3})' # ...or ip\n",
    "        r'(?::\\d+)?' # optional port\n",
    "        r'(?:/?|[/?]\\S+)$', re.IGNORECASE)\n",
    "    \n",
    "    return re.match(regex, url)"
   ]
  }
 ],
 "metadata": {
  "kernelspec": {
   "display_name": "Python 3",
   "language": "python",
   "name": "python3"
  },
  "language_info": {
   "codemirror_mode": {
    "name": "ipython",
    "version": 3
   },
   "file_extension": ".py",
   "mimetype": "text/x-python",
   "name": "python",
   "nbconvert_exporter": "python",
   "pygments_lexer": "ipython3",
   "version": "3.7.1"
  }
 },
 "nbformat": 4,
 "nbformat_minor": 2
}
